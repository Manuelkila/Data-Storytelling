{
 "cells": [
  {
   "cell_type": "code",
   "execution_count": 1,
   "metadata": {},
   "outputs": [],
   "source": [
    "import numpy as np # linear algebra\n",
    "import pandas as pd # data processing, CSV file I/O (e.g. pd.read_csv)\n",
    "import requests\n",
    "from bs4 import BeautifulSoup\n",
    "import urllib.request\n",
    "from urllib.request import urlopen\n",
    "import json"
   ]
  },
  {
   "cell_type": "code",
   "execution_count": null,
   "metadata": {},
   "outputs": [],
   "source": [
    "url = 'https://en.wikipedia.org/wiki/UEFA_Champions_League'\n",
    "page = urlopen(url)\n",
    "soup = BeautifulSoup(page, 'lxml')\n",
    "\n",
    "\n",
    "all_tables = soup.find_all('table')\n",
    "\n",
    "\n",
    "rank_table = all_tables[3]\n",
    "country = rank_table.find_all('a')\n",
    "\n",
    "Nation= []\n",
    "for link in country:\n",
    "    Nation.append(link.text)\n",
    "Titles= []\n",
    "Runners_up = []\n",
    "Total = []\n",
    "for row in rank_table.findAll('tr'):\n",
    "    cells = row.findAll('td')\n",
    "    if len(cells)== 3:\n",
    "        mlink = cells[1].findAll('a')\n",
    "        #Nation.append(mlink.contents[0])\n",
    "        Titles.append(cells[0].find(text= True).strip())\n",
    "        Runners_up.append(cells[1].find(text= True).strip())\n",
    "        Total.append(cells[2].find(text=True).strip())"
   ]
  },
  {
   "cell_type": "code",
   "execution_count": null,
   "metadata": {},
   "outputs": [],
   "source": [
    "#data = [Nation, Titles, Runners_up, Total]\n",
    "ranking= pd.DataFrame(list(zip(Nation, Titles, Runners_up, Total)), columns =['Nation', 'Titles','Runners_up','Total'] )\n",
    "ranking"
   ]
  },
  {
   "cell_type": "code",
   "execution_count": null,
   "metadata": {},
   "outputs": [],
   "source": [
    "ranking.to_csv('ranking.csv')"
   ]
  },
  {
   "cell_type": "code",
   "execution_count": null,
   "metadata": {},
   "outputs": [],
   "source": [
    "url = 'https://en.wikipedia.org/wiki/List_of_domestic_football_league_broadcast_deals_by_country'\n",
    "page = urlopen(url)\n",
    "soup = BeautifulSoup(page, 'lxml')\n",
    "\n",
    "all_tables = soup.find_all('table')\n",
    "rev_table = all_tables[1]\n",
    "country = rev_table.findAll('a')\n",
    "\n",
    "local = []\n",
    "league= []\n",
    "value = []\n",
    "number_of_games = []\n",
    "for row in rev_table.findAll('tr'):\n",
    "    cells = row.findAll('td')\n",
    "    if len(cells)== 7:\n",
    "        #mlink = cells[1].findAll('a')\n",
    "        #Nation.append(mlink.contents[0])\n",
    "        league.append(cells[1].find(text= True).strip())\n",
    "        value.append(cells[5].find(text= True).strip())\n",
    "        local.append(cells[2].find(text= True).strip())\n",
    "        number_of_games.append(cells[4].find(text= True).strip())\n",
    "        \n",
    "        \n",
    "    "
   ]
  },
  {
   "cell_type": "code",
   "execution_count": null,
   "metadata": {},
   "outputs": [],
   "source": [
    "tv_revenue = pd.DataFrame()\n",
    "tv_revenue['country'] = local\n",
    "tv_revenue['league'] = league\n",
    "tv_revenue['value per game'] = value\n",
    "tv_revenue['number of games'] = number_of_games\n",
    "tv_revenue.head()"
   ]
  },
  {
   "cell_type": "code",
   "execution_count": null,
   "metadata": {},
   "outputs": [],
   "source": [
    "tv_revenue['value per game'] = tv_revenue['value per game'].str.split(' ', expand = False).str.get(0).str.replace(r'\\D', '').astype(float)\n",
    "tv_revenue"
   ]
  },
  {
   "cell_type": "code",
   "execution_count": null,
   "metadata": {},
   "outputs": [],
   "source": [
    "tv_revenue['value per game']= tv_revenue['value per game'].apply(lambda x: x*10000 if x < 1000 else x)\n",
    "             \n",
    "             \n",
    "tv_revenue"
   ]
  },
  {
   "cell_type": "code",
   "execution_count": null,
   "metadata": {},
   "outputs": [],
   "source": [
    "tv_revenue.to_csv('revenue_data.csv')"
   ]
  },
  {
   "cell_type": "code",
   "execution_count": null,
   "metadata": {},
   "outputs": [],
   "source": [
    "tv_revenue"
   ]
  },
  {
   "cell_type": "code",
   "execution_count": null,
   "metadata": {},
   "outputs": [],
   "source": [
    "url = 'https://en.wikipedia.org/wiki/List_of_UEFA_Cup_and_Europa_League_finals'\n",
    "page = urlopen(url)\n",
    "soup = BeautifulSoup(page, 'lxml')\n",
    "\n",
    "\n",
    "all_tables = soup.find_all('table')\n",
    "\n",
    "\n",
    "rank_table = all_tables[4]\n",
    "country = rank_table.find_all('a')\n",
    "\n",
    "Nation= []\n",
    "for link in country:\n",
    "    Nation.append(link.text)\n",
    "Titles= []\n",
    "Runners_up = []\n",
    "Total = []\n",
    "for row in rank_table.findAll('tr'):\n",
    "    cells = row.findAll('td')\n",
    "    if len(cells)== 3:\n",
    "        mlink = cells[1].findAll('a')\n",
    "        #Nation.append(mlink.contents[0])\n",
    "        Titles.append(cells[0].find(text= True).strip())\n",
    "        Runners_up.append(cells[1].find(text= True).strip())\n",
    "        Total.append(cells[2].find(text=True).strip())"
   ]
  },
  {
   "cell_type": "code",
   "execution_count": null,
   "metadata": {},
   "outputs": [],
   "source": [
    "Nation.remove('[p]')\n",
    "Nation.remove('[o]')"
   ]
  },
  {
   "cell_type": "code",
   "execution_count": null,
   "metadata": {},
   "outputs": [],
   "source": [
    "europa_df = pd.DataFrame(list(zip(Nation, Titles, Runners_up, Total)), columns =['Nation', 'Titles','Runners_up','Total'])"
   ]
  },
  {
   "cell_type": "code",
   "execution_count": null,
   "metadata": {},
   "outputs": [],
   "source": [
    "europa_df"
   ]
  },
  {
   "cell_type": "code",
   "execution_count": null,
   "metadata": {},
   "outputs": [],
   "source": [
    "europa_df.to_csv('europa_ranking.csv')"
   ]
  },
  {
   "cell_type": "code",
   "execution_count": null,
   "metadata": {},
   "outputs": [],
   "source": []
  },
  {
   "cell_type": "code",
   "execution_count": 9,
   "metadata": {},
   "outputs": [],
   "source": [
    "url = 'https://en.wikipedia.org/wiki/European_Cup_and_UEFA_Champions_League_records_and_statistics'\n",
    "page = urlopen(url)\n",
    "soup = BeautifulSoup(page, 'lxml')\n",
    "\n",
    "\n",
    "all_tables = soup.find_all('table')\n",
    "\n",
    "\n",
    "rank_table = all_tables[1]\n",
    "country = rank_table.find_all('a')\n",
    "\n",
    "Nation= []\n",
    "for link in country:\n",
    "    Nation.append(link.text)\n",
    "Titles= []\n",
    "Runners_up = []\n",
    "Total = []\n",
    "for row in rank_table.findAll('tr'):\n",
    "    cells = row.findAll('td')\n",
    "    if len(cells)== 5:\n",
    "        mlink = cells[1].findAll('a')\n",
    "        #Nation.append(mlink.contents[0])\n",
    "        Titles.append(cells[3].find(text= True).strip())\n",
    "        Runners_up.append(cells[4].find(text= True).strip())\n",
    "        Total.append(cells[2].find(text=True).strip())"
   ]
  },
  {
   "cell_type": "code",
   "execution_count": 11,
   "metadata": {},
   "outputs": [
    {
     "data": {
      "text/plain": [
       "['Atlético Madrid',\n",
       " 'Liverpool',\n",
       " 'Juventus',\n",
       " 'Bayern Munich',\n",
       " 'Ajax',\n",
       " 'Benfica',\n",
       " 'Reims',\n",
       " 'Partizan',\n",
       " 'Steaua București',\n",
       " 'Celtic',\n",
       " 'Panathinaikos',\n",
       " 'Club Brugge',\n",
       " 'Malmö FF']"
      ]
     },
     "execution_count": 11,
     "metadata": {},
     "output_type": "execute_result"
    }
   ],
   "source": [
    "Runners_up"
   ]
  },
  {
   "cell_type": "code",
   "execution_count": 34,
   "metadata": {},
   "outputs": [],
   "source": [
    "Nation = list(dict.fromkeys(Nation))"
   ]
  },
  {
   "cell_type": "code",
   "execution_count": 35,
   "metadata": {},
   "outputs": [
    {
     "data": {
      "text/plain": [
       "['Spain',\n",
       " 'Real Madrid',\n",
       " 'Barcelona',\n",
       " 'Atlético Madrid',\n",
       " 'Valencia',\n",
       " 'England',\n",
       " 'Liverpool',\n",
       " 'Manchester United',\n",
       " 'Nottingham Forest',\n",
       " 'Aston Villa',\n",
       " 'Chelsea',\n",
       " 'Arsenal',\n",
       " 'Leeds United',\n",
       " 'Tottenham Hotspur',\n",
       " 'Italy',\n",
       " 'Milan',\n",
       " 'Inter Milan',\n",
       " 'Juventus',\n",
       " 'Fiorentina',\n",
       " 'Roma',\n",
       " 'Sampdoria',\n",
       " 'Germany',\n",
       " 'Bayern Munich',\n",
       " 'Hamburg',\n",
       " 'Borussia Dortmund',\n",
       " 'Bayer Leverkusen',\n",
       " 'Borussia Mönchengladbach',\n",
       " 'Eintracht Frankfurt',\n",
       " 'Netherlands',\n",
       " 'Ajax',\n",
       " 'Feyenoord',\n",
       " 'PSV Eindhoven',\n",
       " 'Portugal',\n",
       " 'Benfica',\n",
       " 'Porto',\n",
       " 'France',\n",
       " 'Marseille',\n",
       " 'Reims',\n",
       " 'Monaco',\n",
       " 'Saint-Étienne',\n",
       " 'Paris Saint-Germain',\n",
       " 'Serbia',\n",
       " 'Red Star Belgrade',\n",
       " 'Partizan',\n",
       " 'Romania',\n",
       " 'Steaua București',\n",
       " 'Scotland',\n",
       " 'Celtic',\n",
       " 'Greece',\n",
       " 'Panathinaikos',\n",
       " 'Belgium',\n",
       " 'Club Brugge',\n",
       " 'Sweden',\n",
       " 'Malmö FF']"
      ]
     },
     "execution_count": 35,
     "metadata": {},
     "output_type": "execute_result"
    }
   ],
   "source": [
    "Nation"
   ]
  },
  {
   "cell_type": "code",
   "execution_count": 36,
   "metadata": {},
   "outputs": [
    {
     "data": {
      "text/plain": [
       "['Real Madrid', 'Barcelona', 'Atlético Madrid', 'Valencia']"
      ]
     },
     "execution_count": 36,
     "metadata": {},
     "output_type": "execute_result"
    }
   ],
   "source": [
    "la_liga =Nation[1:5]\n",
    "la_liga"
   ]
  },
  {
   "cell_type": "code",
   "execution_count": 37,
   "metadata": {},
   "outputs": [
    {
     "data": {
      "text/plain": [
       "['Liverpool',\n",
       " 'Manchester United',\n",
       " 'Nottingham Forest',\n",
       " 'Aston Villa',\n",
       " 'Chelsea',\n",
       " 'Arsenal',\n",
       " 'Leeds United',\n",
       " 'Tottenham Hotspur']"
      ]
     },
     "execution_count": 37,
     "metadata": {},
     "output_type": "execute_result"
    }
   ],
   "source": [
    "epl = Nation[6:14]\n",
    "epl"
   ]
  },
  {
   "cell_type": "code",
   "execution_count": 39,
   "metadata": {},
   "outputs": [
    {
     "data": {
      "text/plain": [
       "['Milan', 'Inter Milan', 'Juventus', 'Fiorentina', 'Roma', 'Sampdoria']"
      ]
     },
     "execution_count": 39,
     "metadata": {},
     "output_type": "execute_result"
    }
   ],
   "source": [
    "serie_a = Nation[15:21]\n",
    "serie_a"
   ]
  },
  {
   "cell_type": "code",
   "execution_count": 41,
   "metadata": {},
   "outputs": [
    {
     "data": {
      "text/plain": [
       "['Bayern Munich',\n",
       " 'Hamburg',\n",
       " 'Borussia Dortmund',\n",
       " 'Bayer Leverkusen',\n",
       " 'Borussia Mönchengladbach',\n",
       " 'Eintracht Frankfurt']"
      ]
     },
     "execution_count": 41,
     "metadata": {},
     "output_type": "execute_result"
    }
   ],
   "source": [
    "Bundesliga =Nation[22:28]\n",
    "Bundesliga"
   ]
  },
  {
   "cell_type": "code",
   "execution_count": 45,
   "metadata": {},
   "outputs": [
    {
     "data": {
      "text/plain": [
       "['Marseille', 'Reims', 'Monaco', 'Saint-Étienne', 'Paris Saint-Germain']"
      ]
     },
     "execution_count": 45,
     "metadata": {},
     "output_type": "execute_result"
    }
   ],
   "source": [
    "Ligue_1 = Nation[36:41]\n",
    "Ligue_1"
   ]
  },
  {
   "cell_type": "code",
   "execution_count": 33,
   "metadata": {},
   "outputs": [
    {
     "data": {
      "text/plain": [
       "['Spain',\n",
       " 'Real Madrid',\n",
       " 'Barcelona',\n",
       " 'Atlético Madrid',\n",
       " 'Valencia',\n",
       " 'England',\n",
       " 'Liverpool',\n",
       " 'Manchester United',\n",
       " 'Nottingham Forest',\n",
       " 'Aston Villa',\n",
       " 'Chelsea',\n",
       " 'Arsenal',\n",
       " 'Leeds United',\n",
       " 'Tottenham Hotspur',\n",
       " 'Italy',\n",
       " 'Milan',\n",
       " 'Inter Milan',\n",
       " 'Juventus',\n",
       " 'Fiorentina',\n",
       " 'Roma',\n",
       " 'Sampdoria',\n",
       " 'Germany',\n",
       " 'Bayern Munich',\n",
       " 'Hamburg',\n",
       " 'Borussia Dortmund',\n",
       " 'Bayer Leverkusen',\n",
       " 'Borussia Mönchengladbach',\n",
       " 'Eintracht Frankfurt',\n",
       " 'Netherlands',\n",
       " 'Ajax',\n",
       " 'Feyenoord',\n",
       " 'PSV Eindhoven',\n",
       " 'Portugal',\n",
       " 'Benfica',\n",
       " 'Porto',\n",
       " 'France',\n",
       " 'Marseille',\n",
       " 'Reims',\n",
       " 'Monaco',\n",
       " 'Saint-Étienne',\n",
       " 'Paris Saint-Germain',\n",
       " 'Serbia',\n",
       " 'Red Star Belgrade',\n",
       " 'Partizan',\n",
       " 'Romania',\n",
       " 'Steaua București',\n",
       " 'Scotland',\n",
       " 'Celtic',\n",
       " 'Greece',\n",
       " 'Panathinaikos',\n",
       " 'Belgium',\n",
       " 'Club Brugge',\n",
       " 'Sweden',\n",
       " 'Malmö FF']"
      ]
     },
     "execution_count": 33,
     "metadata": {},
     "output_type": "execute_result"
    }
   ],
   "source": []
  },
  {
   "cell_type": "code",
   "execution_count": null,
   "metadata": {},
   "outputs": [],
   "source": []
  }
 ],
 "metadata": {
  "kernelspec": {
   "display_name": "Python 3",
   "language": "python",
   "name": "python3"
  },
  "language_info": {
   "codemirror_mode": {
    "name": "ipython",
    "version": 3
   },
   "file_extension": ".py",
   "mimetype": "text/x-python",
   "name": "python",
   "nbconvert_exporter": "python",
   "pygments_lexer": "ipython3",
   "version": "3.7.6"
  }
 },
 "nbformat": 4,
 "nbformat_minor": 4
}
